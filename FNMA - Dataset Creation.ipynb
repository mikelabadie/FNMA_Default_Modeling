{
 "cells": [
  {
   "cell_type": "markdown",
   "metadata": {},
   "source": [
    "# Build a Dataset for Modeling"
   ]
  },
  {
   "cell_type": "code",
   "execution_count": 20,
   "metadata": {},
   "outputs": [],
   "source": [
    "quarter = \"2012Q3\"\n",
    "directory = \"Data/\""
   ]
  },
  {
   "cell_type": "code",
   "execution_count": 28,
   "metadata": {},
   "outputs": [],
   "source": [
    "import pandas as pd\n",
    "pd.set_option(\"display.max_row\",500)\n",
    "pd.set_option(\"display.max_columns\",500)\n",
    "\n",
    "import warnings\n",
    "warnings.filterwarnings(\"ignore\")\n",
    "\n",
    "import numpy as np"
   ]
  },
  {
   "cell_type": "markdown",
   "metadata": {},
   "source": [
    "## Load Dataset"
   ]
  },
  {
   "cell_type": "code",
   "execution_count": 21,
   "metadata": {},
   "outputs": [],
   "source": [
    "filename=directory+\"Performance_\"+quarter+\".txt\"\n",
    "df_perf = pd.read_csv(filename, sep=\"|\",header=None)\n",
    "df_perf.columns = [\"LOAN_ID\", \"Monthly.Rpt.Prd\", \"Servicer.Name\",\n",
    "    \"LAST_RT\", \"LAST_UPB\", \"Loan.Age\", \"Months.To.Legal.Mat\",\n",
    "    \"Adj.Month.To.Mat\", \"Maturity.Date\", \"MSA\",\n",
    "    \"Delq.Status\", \"MOD_FLAG\", \"Zero.Bal.Code\",\n",
    "    \"ZB_DTE\", \"LPI_DTE\", \"FCC_DTE\",\"DISP_DT\",\n",
    "    \"FCC_COST\", \"PP_COST\", \"AR_COST\", \"IE_COST\",\n",
    "    \"TAX_COST\", \"NS_PROCS\",\n",
    "    \"CE_PROCS\", \"RMW_PROCS\", \"O_PROCS\", \"NON_INT_UPB\",\n",
    "    \"PRIN_FORG_UPB_FHFA\", \"REPCH_FLAG\",\n",
    "    \"PRIN_FORG_UPB_OTH\", \"TRANSFER_FLG\"]"
   ]
  },
  {
   "cell_type": "code",
   "execution_count": 22,
   "metadata": {},
   "outputs": [],
   "source": [
    "filename=directory+\"Acquisition_\"+quarter+\".txt\"\n",
    "df_acq = pd.read_csv(filename, sep=\"|\",header=None)\n",
    "df_acq.columns = [\"LOAN_ID\", \"ORIG_CHN\", \"Seller.Name\", \"ORIG_RT\",\n",
    "    \"ORIG_AMT\", \"ORIG_TRM\", \"ORIG_DTE\",\"FRST_DTE\", \"OLTV\", \"OCLTV\", \"NUM_BO\", \"DTI\",\n",
    "    \"CSCORE_B\", \"FTHB_FLG\", \"PURPOSE\", \"PROP_TYP\", \"NUM_UNIT\", \"OCC_STAT\", \"STATE\", \"ZIP_3\",\n",
    "    \"MI_PCT\", \"Product.Type\", \"CSCORE_C\", \"MI_TYPE\", \"RELOCATION_FLG\"]"
   ]
  },
  {
   "cell_type": "markdown",
   "metadata": {},
   "source": [
    "#### Cleanup Needed - Found through EDA and Modeling"
   ]
  },
  {
   "cell_type": "code",
   "execution_count": 23,
   "metadata": {},
   "outputs": [],
   "source": [
    "df_acq.loc[df_acq['FTHB_FLG']==\"U\",\"FTHB_FLG\"]=None\n",
    "df_acq.loc[df_acq['OCC_STAT']==\"U\",\"OCC_STAT\"]=None"
   ]
  },
  {
   "cell_type": "markdown",
   "metadata": {},
   "source": [
    "## Drop Records with Missing Data"
   ]
  },
  {
   "cell_type": "code",
   "execution_count": 24,
   "metadata": {},
   "outputs": [],
   "source": [
    "# drop records with missing data\n",
    "vars_to_use = [\"ORIG_CHN\", \"Seller.Name\", \"ORIG_RT\", \"ORIG_AMT\", \"ORIG_TRM\",\n",
    "                   \"OLTV\", \"OCLTV\", \"DTI\", \"NUM_BO\", \"CSCORE_B\", \n",
    "                   \"FTHB_FLG\", \"PURPOSE\", \"PROP_TYP\", \"NUM_UNIT\", \"OCC_STAT\", \n",
    "                   \"STATE\", \"RELOCATION_FLG\"]\n",
    "df_acq = df_acq.dropna(subset=vars_to_use)"
   ]
  },
  {
   "cell_type": "markdown",
   "metadata": {},
   "source": [
    "## Build Dataset:  Sample, Add Max Delinquency, Merge, and Clean Dataset"
   ]
  },
  {
   "cell_type": "code",
   "execution_count": 25,
   "metadata": {},
   "outputs": [],
   "source": [
    "# get max delinquency value for each loan in sample\n",
    "df = pd.merge(df_acq, df_perf[df_perf[\"Delq.Status\"]!=\"X\"], on=[\"LOAN_ID\"])\n",
    "df[\"Delq.Status\"] = df[\"Delq.Status\"].apply(pd.to_numeric)\n",
    "delq_by_loan = df.groupby([\"LOAN_ID\"])[\"Delq.Status\"].max()\n",
    "delq_by_loan.rename(\"Max.Delq\",inplace=True)\n",
    "delq_by_loan = delq_by_loan.to_frame()"
   ]
  },
  {
   "cell_type": "markdown",
   "metadata": {},
   "source": [
    "## Create Target Variable"
   ]
  },
  {
   "cell_type": "code",
   "execution_count": 26,
   "metadata": {},
   "outputs": [],
   "source": [
    "# create target variable to indicate default (3 months or more of non-payment)\n",
    "df = pd.merge(df_acq, delq_by_loan, on=[\"LOAN_ID\"])\n",
    "df[\"target\"] = np.where(df[\"Max.Delq\"] > 2, \"yes\", \"no\")"
   ]
  },
  {
   "cell_type": "markdown",
   "metadata": {},
   "source": [
    "## Write File"
   ]
  },
  {
   "cell_type": "code",
   "execution_count": 27,
   "metadata": {},
   "outputs": [],
   "source": [
    "# create file\n",
    "df.to_csv(directory+\"Adjusted_Acquisition_\"+quarter+\".txt\",index=False)"
   ]
  }
 ],
 "metadata": {
  "kernelspec": {
   "display_name": "Python 3",
   "language": "python",
   "name": "python3"
  },
  "language_info": {
   "codemirror_mode": {
    "name": "ipython",
    "version": 3
   },
   "file_extension": ".py",
   "mimetype": "text/x-python",
   "name": "python",
   "nbconvert_exporter": "python",
   "pygments_lexer": "ipython3",
   "version": "3.6.5"
  }
 },
 "nbformat": 4,
 "nbformat_minor": 2
}
